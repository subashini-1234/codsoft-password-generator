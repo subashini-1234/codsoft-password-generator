{
 "cells": [
  {
   "cell_type": "code",
   "execution_count": 2,
   "id": "36304be7",
   "metadata": {},
   "outputs": [
    {
     "name": "stdout",
     "output_type": "stream",
     "text": [
      "Welcome to the Password Generator!\n",
      "Enter the desired length of the password: 9\n",
      "Generated password: ^O9lf1=/`\n"
     ]
    }
   ],
   "source": [
    "import random\n",
    "import string\n",
    "\n",
    "def generate_password(length):\n",
    "    if length < 4:\n",
    "        print(\"Password length should be at least 4 characters.\")\n",
    "        return None\n",
    "\n",
    "    \n",
    "    lowercase_letters = string.ascii_lowercase\n",
    "    uppercase_letters = string.ascii_uppercase\n",
    "    digits = string.digits\n",
    "    special_characters = string.punctuation\n",
    "    \n",
    "    \n",
    "    password_characters = (\n",
    "        random.choice(lowercase_letters) +\n",
    "        random.choice(uppercase_letters) +\n",
    "        random.choice(digits) +\n",
    "        random.choice(special_characters)\n",
    "    )\n",
    "    \n",
    "    \n",
    "    all_characters = lowercase_letters + uppercase_letters + digits + special_characters\n",
    "    password_characters += ''.join(random.choice(all_characters) for _ in range(length - 4))\n",
    "    \n",
    "    \n",
    "    password_list = list(password_characters)\n",
    "    random.shuffle(password_list)\n",
    "    \n",
    "    return ''.join(password_list)\n",
    "\n",
    "def main():\n",
    "    print(\"Welcome to the Password Generator!\")\n",
    "    \n",
    "    \n",
    "    try:\n",
    "        length = int(input(\"Enter the desired length of the password: \"))\n",
    "    except ValueError:\n",
    "        print(\"Invalid input. Please enter a numeric value.\")\n",
    "        return\n",
    "    \n",
    "    \n",
    "    password = generate_password(length)\n",
    "    if password:\n",
    "        print(f\"Generated password: {password}\")\n",
    "\n",
    "if __name__ == \"__main__\":\n",
    "    main()\n"
   ]
  },
  {
   "cell_type": "code",
   "execution_count": null,
   "id": "ba9a583a",
   "metadata": {},
   "outputs": [],
   "source": []
  }
 ],
 "metadata": {
  "kernelspec": {
   "display_name": "Python 3 (ipykernel)",
   "language": "python",
   "name": "python3"
  },
  "language_info": {
   "codemirror_mode": {
    "name": "ipython",
    "version": 3
   },
   "file_extension": ".py",
   "mimetype": "text/x-python",
   "name": "python",
   "nbconvert_exporter": "python",
   "pygments_lexer": "ipython3",
   "version": "3.11.5"
  }
 },
 "nbformat": 4,
 "nbformat_minor": 5
}
